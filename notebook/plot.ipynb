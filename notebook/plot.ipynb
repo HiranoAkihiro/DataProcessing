{
 "cells": [
  {
   "cell_type": "markdown",
   "id": "66d307da-d24f-4194-aaca-636488914c6a",
   "metadata": {},
   "source": [
    "## plot numerical data"
   ]
  },
  {
   "cell_type": "code",
   "execution_count": 2,
   "id": "d20894fb-75dc-476d-91dd-4e78979853f2",
   "metadata": {},
   "outputs": [],
   "source": [
    "import matplotlib.pyplot as plt\n",
    "import numpy as np\n",
    "import sys\n",
    "import os\n",
    "current_dir = os.getcwd()  # 現在の作業ディレクトリを取得\n",
    "parent_dir = os.path.dirname(current_dir)\n",
    "sys.path.append(parent_dir)\n",
    "import src.read as read\n",
    "import src.utils as util"
   ]
  },
  {
   "cell_type": "code",
   "execution_count": 3,
   "id": "646a1c62-e695-4360-ab54-bcc3c99bde60",
   "metadata": {},
   "outputs": [
    {
     "name": "stdout",
     "output_type": "stream",
     "text": [
      "['u_error1.dat', 'u_error2.dat', 'u_error4.dat', 'u_error8.dat', 'u_error16.dat', 'u_error32.dat']\n"
     ]
    }
   ],
   "source": [
    "file_names = []\n",
    "directory = \"u_error/\"\n",
    "pattern = \"u_error*.dat\"\n",
    "\n",
    "result = read.get_filenames_list_exp(directory, pattern)\n",
    "file_names = result[0]\n",
    "n_files = result[1]\n",
    "\n",
    "print(file_names)"
   ]
  },
  {
   "cell_type": "code",
   "execution_count": 4,
   "id": "c2d79939-e36d-45df-a244-63acb53e26e0",
   "metadata": {},
   "outputs": [
    {
     "name": "stdout",
     "output_type": "stream",
     "text": [
      "2次元配列の形状: (6, 100)\n"
     ]
    }
   ],
   "source": [
    "array = read.read_files(directory, file_names)\n",
    "\n",
    "print(f\"2次元配列の形状: {array.shape}\")"
   ]
  },
  {
   "cell_type": "code",
   "execution_count": 5,
   "id": "9499f6f1-931b-454d-8f4b-76a97f45da07",
   "metadata": {},
   "outputs": [
    {
     "ename": "IndexError",
     "evalue": "index 30 is out of bounds for axis 0 with size 6",
     "output_type": "error",
     "traceback": [
      "\u001b[0;31m---------------------------------------------------------------------------\u001b[0m",
      "\u001b[0;31mIndexError\u001b[0m                                Traceback (most recent call last)",
      "Cell \u001b[0;32mIn[5], line 5\u001b[0m\n\u001b[1;32m      3\u001b[0m n_data \u001b[38;5;241m=\u001b[39m array\u001b[38;5;241m.\u001b[39mshape[\u001b[38;5;241m1\u001b[39m]\n\u001b[1;32m      4\u001b[0m tr \u001b[38;5;241m=\u001b[39m \u001b[38;5;28mrange\u001b[39m(\u001b[38;5;241m30\u001b[39m, n_data)\n\u001b[0;32m----> 5\u001b[0m mean_HROM \u001b[38;5;241m=\u001b[39m \u001b[43mutil\u001b[49m\u001b[38;5;241;43m.\u001b[39;49m\u001b[43mget_mean\u001b[49m\u001b[43m(\u001b[49m\u001b[43marray\u001b[49m\u001b[43m,\u001b[49m\u001b[43m \u001b[49m\u001b[43mn_means\u001b[49m\u001b[43m,\u001b[49m\u001b[43m \u001b[49m\u001b[43mtarget_dim\u001b[49m\u001b[38;5;241;43m=\u001b[39;49m\u001b[38;5;241;43m1\u001b[39;49m\u001b[43m,\u001b[49m\u001b[43m \u001b[49m\u001b[43mcustom_flag\u001b[49m\u001b[38;5;241;43m=\u001b[39;49m\u001b[38;5;28;43;01mTrue\u001b[39;49;00m\u001b[43m,\u001b[49m\u001b[43m \u001b[49m\u001b[43mtarget_range\u001b[49m\u001b[38;5;241;43m=\u001b[39;49m\u001b[43mtr\u001b[49m\u001b[43m)\u001b[49m\n\u001b[1;32m      7\u001b[0m \u001b[38;5;28mprint\u001b[39m(mean_HROM)\n",
      "File \u001b[0;32m~/program/my_study/numerical_data/DataProcessing/src/utils.py:23\u001b[0m, in \u001b[0;36mget_mean\u001b[0;34m(array, n, target_dim, custom_flag, target_range)\u001b[0m\n\u001b[1;32m     20\u001b[0m         target_range \u001b[38;5;241m=\u001b[39m \u001b[38;5;28mrange\u001b[39m(\u001b[38;5;241m0\u001b[39m,n)\n\u001b[1;32m     22\u001b[0m     \u001b[38;5;28;01mfor\u001b[39;00m i \u001b[38;5;129;01min\u001b[39;00m \u001b[38;5;28mrange\u001b[39m(\u001b[38;5;241m0\u001b[39m,n,\u001b[38;5;241m1\u001b[39m):\n\u001b[0;32m---> 23\u001b[0m         mean_array\u001b[38;5;241m.\u001b[39mappend(np\u001b[38;5;241m.\u001b[39mmean(\u001b[43marray\u001b[49m\u001b[43m[\u001b[49m\u001b[43mtarget_range\u001b[49m\u001b[43m,\u001b[49m\u001b[43mi\u001b[49m\u001b[43m]\u001b[49m))\n\u001b[1;32m     25\u001b[0m \u001b[38;5;28;01mreturn\u001b[39;00m mean_array\n",
      "\u001b[0;31mIndexError\u001b[0m: index 30 is out of bounds for axis 0 with size 6"
     ]
    }
   ],
   "source": [
    "mean_HROM = []\n",
    "n_means = array.shape[0]\n",
    "n_data = array.shape[1]\n",
    "tr = range(30, n_data)\n",
    "mean_HROM = util.get_mean(array, n_means, target_dim=0, custom_flag=True, target_range=tr)\n",
    "\n",
    "print(mean_HROM)"
   ]
  },
  {
   "cell_type": "markdown",
   "id": "f2bf3f25",
   "metadata": {},
   "source": [
    "[np.float64(3.209780493769774e-06), np.float64(1.0650615740834416e-05), np.float64(6.169882660390809e-06), np.float64(5.563725596008466e-07), np.float64(1.4401071022844395e-07), np.float64(2.738973474448064e-07)]"
   ]
  },
  {
   "cell_type": "code",
   "execution_count": null,
   "id": "0e13741b-78bb-4257-82e3-588832f010eb",
   "metadata": {},
   "outputs": [],
   "source": [
    "array = array.T\n",
    "fig_3, ax_3 = plt.subplots()\n",
    "data_names = []\n",
    "\n",
    "for i in range(1,(n_files+1),1):\n",
    "    incr = 2**(i-1)\n",
    "    data_names.append(f'err{incr}')\n",
    "\n",
    "for i in range(0, n_files, 1):\n",
    "    ax_3.plot(array[:,i], marker='x', label=data_names[i])\n",
    "\n",
    "ax_3.set_xlabel('time step')\n",
    "ax_3.set_ylabel('disp error')\n",
    "ax_3.legend(data_names)\n",
    "ax_3.grid()\n",
    "# ax_3.set_ylim(0.0, 0.001)\n",
    "ax_3.ticklabel_format(axis='y', style='sci', scilimits=(0,0), useMathText=True)\n",
    "\n",
    "plt.show()"
   ]
  },
  {
   "cell_type": "code",
   "execution_count": null,
   "id": "e447e5aa-0da1-45e7-8650-da3ec892b0c0",
   "metadata": {},
   "outputs": [],
   "source": [
    "fig, ax = plt.subplots()\n",
    "x = np.zeros(n_files)\n",
    "for i in range(0,n_files,1):\n",
    "    x[i] = 2**i\n",
    "\n",
    "ax.plot(x, mean_HROM, marker='o')\n",
    "ax.set_xlabel('number of subdomains')\n",
    "ax.set_ylabel('error')\n",
    "ax.grid()\n",
    "ax_3.ticklabel_format(axis='y', style='sci', scilimits=(0,0), useMathText=True)\n",
    "# ax.set_xscale('log')\n",
    "# ax.set_xticks(mean_HROM)\n",
    "# ax.set_xticklabels([2**i for i in range(0,len(mean_HROM))])\n",
    "# ax.set_title('disp error')\n",
    "plt.show()"
   ]
  },
  {
   "cell_type": "markdown",
   "id": "0187a878",
   "metadata": {},
   "source": [
    "# select elements of resuced mesh\n",
    "this is a code that plot the number of select elements of reduced mesh."
   ]
  },
  {
   "cell_type": "markdown",
   "id": "6977ba9f",
   "metadata": {},
   "source": [
    "read text file of select elements"
   ]
  },
  {
   "cell_type": "code",
   "execution_count": null,
   "id": "167f8506-ae27-4b75-ab1c-d77efc92a8cb",
   "metadata": {},
   "outputs": [],
   "source": [
    "file_name = 'select_elements.dat'\n",
    "data = []\n",
    "\n",
    "with open(file_name, 'r')as file:\n",
    "    data = file.read()\n",
    "\n",
    "print(data)\n",
    "data = data.splitlines()\n",
    "select_e = np.array(data, dtype=int)\n",
    "print(select_e)\n"
   ]
  },
  {
   "cell_type": "markdown",
   "id": "b56cd6c9",
   "metadata": {},
   "source": [
    "plot select elements data"
   ]
  },
  {
   "cell_type": "code",
   "execution_count": null,
   "id": "a2c64790",
   "metadata": {},
   "outputs": [],
   "source": [
    "# select_e = np.delete(select_e, -1)\n",
    "print(select_e)\n",
    "\n",
    "fig2, ax2 = plt.subplots()\n",
    "ax2.plot(x, select_e, marker='o')\n",
    "ax2.set_xlabel('number of subdomains')\n",
    "ax2.set_ylabel('number of select elements')\n",
    "# ax2.set_xscale('log')\n",
    "# ax2.set_yscale('log')\n",
    "ax2.grid(which='major',color='gray',linestyle='-')\n",
    "ax2.grid(which='minor',color='gray',linestyle='--')\n",
    "plt.show()"
   ]
  },
  {
   "cell_type": "code",
   "execution_count": null,
   "id": "df986b07",
   "metadata": {},
   "outputs": [],
   "source": []
  }
 ],
 "metadata": {
  "kernelspec": {
   "display_name": "venv",
   "language": "python",
   "name": "python3"
  },
  "language_info": {
   "codemirror_mode": {
    "name": "ipython",
    "version": 3
   },
   "file_extension": ".py",
   "mimetype": "text/x-python",
   "name": "python",
   "nbconvert_exporter": "python",
   "pygments_lexer": "ipython3",
   "version": "3.12.3"
  }
 },
 "nbformat": 4,
 "nbformat_minor": 5
}
